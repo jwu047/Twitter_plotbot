{
 "cells": [
  {
   "cell_type": "markdown",
   "metadata": {},
   "source": [
    "# Twitter Bot"
   ]
  },
  {
   "cell_type": "code",
   "execution_count": 1,
   "metadata": {},
   "outputs": [],
   "source": [
    "import numpy as np\n",
    "import pandas as pd\n",
    "import matplotlib\n",
    "matplotlib.use('Agg')  # noqa\n",
    "import matplotlib.pyplot as plt\n",
    "import tweepy\n",
    "import time\n",
    "\n",
    "from myconfig import consumer_key, consumer_secret, access_token, access_token_secret\n",
    "from vaderSentiment.vaderSentiment import SentimentIntensityAnalyzer"
   ]
  },
  {
   "cell_type": "code",
   "execution_count": 2,
   "metadata": {},
   "outputs": [],
   "source": [
    "analyzer = SentimentIntensityAnalyzer()\n",
    "\n",
    "auth = tweepy.OAuthHandler(consumer_key, consumer_secret)\n",
    "auth.set_access_token(access_token, access_token_secret)\n",
    "api = tweepy.API(auth, parser=tweepy.parsers.JSONParser())"
   ]
  },
  {
   "cell_type": "code",
   "execution_count": 40,
   "metadata": {},
   "outputs": [],
   "source": [
    "def AnalyzeTweets():\n",
    "    plotbot_tweets = api.search(q=\"@projecttestonly Analyze:\")\n",
    "    target_account = \"\"\n",
    "    \n",
    "    # Most recent\n",
    "    last_tweet = plotbot_tweets[\"statuses\"][0][\"text\"]\n",
    "    username = plotbot_tweets[\"statuses\"][0][\"user\"][\"screen_name\"]\n",
    "    \n",
    "    # What is plotbot asking to analyze\n",
    "    try: \n",
    "        splits = last_tweet.split(\"Analyze:\")\n",
    "        target_account = splits[1].strip()\n",
    "        print(f\"Target account: {target_account}\")\n",
    "    except Exception:\n",
    "        raise\n",
    "    \n",
    "    # To check if plotbot had already asked for this, look at the user_timeline\n",
    "    all_plotbot_tweets = api.user_timeline()\n",
    "    \n",
    "    # For accounts with no tweets, make the first tweet to ensure user_timeline() is not empty\n",
    "    if all_plotbot_tweets == list():\n",
    "        api.update_status(\"Excited to start tweeting!\")\n",
    "        all_plotbot_tweets = api.user_timeline()\n",
    "        \n",
    "    # Required that account has a minimum of one tweet\n",
    "    for tweet in all_plotbot_tweets:\n",
    "        # Check if repeat\n",
    "        if target_account in tweet[\"text\"]:\n",
    "            print(\"Repeated request.\")\n",
    "            # If repeat, stop here\n",
    "            return\n",
    "        else:\n",
    "            print(\"Request in progress...\")\n",
    "            # make sure to keep outside for loop\n",
    "            tweet_data = {\n",
    "                \"tweet_source\": [],\n",
    "                \"tweet_text\": [],\n",
    "                \"tweet_date\": [],\n",
    "                \"tweet_vader_score\": [],\n",
    "                \"tweet_neg_score\": [],\n",
    "                \"tweet_pos_score\": [],\n",
    "                \"tweet_neu_score\": []\n",
    "            }\n",
    "            # Paginate for 500 tweets\n",
    "            for x in range(25):\n",
    "                public_tweets = api.user_timeline(target_account, page=x)\n",
    "                for tweet in public_tweets:\n",
    "                    tweet_data[\"tweet_source\"].append(tweet[\"user\"][\"name\"])\n",
    "                    tweet_data[\"tweet_text\"].append(tweet[\"text\"])\n",
    "                    tweet_data[\"tweet_date\"].append(tweet[\"created_at\"])\n",
    "\n",
    "                    results = analyzer.polarity_scores(tweet[\"text\"])\n",
    "                    tweet_data[\"tweet_vader_score\"].append(results[\"compound\"])\n",
    "                    tweet_data[\"tweet_pos_score\"].append(results[\"pos\"])\n",
    "                    tweet_data[\"tweet_neu_score\"].append(results[\"neu\"])\n",
    "                    tweet_data[\"tweet_neg_score\"].append(results[\"neg\"])\n",
    "            tweet_df = pd.DataFrame.from_dict(tweet_data)\n",
    "            # Convert to datetime objects then sort\n",
    "            tweet_df[\"tweet_date\"] = pd.to_datetime(tweet_df[\"tweet_date\"])\n",
    "            tweet_df.sort_values(\"tweet_date\", inplace=True)\n",
    "            tweet_df.reset_index(drop=True, inplace=True)\n",
    "            \n",
    "            # Clear plot\n",
    "            plt.clf()\n",
    "            plt.plot(np.arange(-len(tweet_df[\"tweet_vader_score\"]), 0, 1),\n",
    "                         tweet_df[\"tweet_vader_score\"], marker=\"o\", linewidth=0.5,\n",
    "                         alpha=0.8, label=f\"{target_account}\")\n",
    "            plt.title(f\"Sentiment Analysis of Tweets ({time.strftime('%x')}\")\n",
    "            plt.ylabel(\"Tweet Polarity\")\n",
    "            plt.xlabel(\"Tweets Ago\")\n",
    "            plt.xlim([-len(tweet_df[\"tweet_vader_score\"]) - 7, 7])\n",
    "            plt.ylim([-1.05, 1.05])\n",
    "            plt.grid()\n",
    "\n",
    "            lgnd = plt.legend(fontsize=\"small\", mode=\"Expanded\",\n",
    "                                      loc=\"best\", bbox_to_anchor=(1, 1), title=\"Tweets\", labelspacing=0.5)\n",
    "            file_path = \"analysis/\" + target_account + \".png\"\n",
    "            plt.savefig(file_path, bbox_extra_artists=(lgnd, ), bbox_inches='tight')\n",
    "            print(f\"Plot complete for {target_account}!\")\n",
    "            api.update_with_media(file_path, f\"New Tweet Analysis: {target_account} (Thx @{username}!)\")\n",
    "            print(f\"Updated status for {target_account}!\")"
   ]
  },
  {
   "cell_type": "code",
   "execution_count": 42,
   "metadata": {},
   "outputs": [
    {
     "name": "stdout",
     "output_type": "stream",
     "text": [
      "Target account: @nytimes\n",
      "Repeated request.\n"
     ]
    }
   ],
   "source": [
    "AnalyzeTweets()"
   ]
  },
  {
   "cell_type": "code",
   "execution_count": null,
   "metadata": {},
   "outputs": [
    {
     "name": "stdout",
     "output_type": "stream",
     "text": [
      "Target account: @CNN\n"
     ]
    }
   ],
   "source": [
    "\"\"\"while(True):\n",
    "    AnalyzeTweets()\n",
    "    time.sleep(300)\"\"\""
   ]
  }
 ],
 "metadata": {
  "kernelspec": {
   "display_name": "Python 3",
   "language": "python",
   "name": "python3"
  },
  "language_info": {
   "codemirror_mode": {
    "name": "ipython",
    "version": 3
   },
   "file_extension": ".py",
   "mimetype": "text/x-python",
   "name": "python",
   "nbconvert_exporter": "python",
   "pygments_lexer": "ipython3",
   "version": "3.7.4"
  }
 },
 "nbformat": 4,
 "nbformat_minor": 2
}